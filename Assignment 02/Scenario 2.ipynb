{
 "cells": [
  {
   "cell_type": "markdown",
   "id": "61cace8e",
   "metadata": {},
   "source": [
    "#### Scenario 2: Student Grades\n",
    "You are managing student grades using a dictionary. You need to calculate the average grade.take\n",
    "atleast 5 Students grades & then calculate the average."
   ]
  },
  {
   "cell_type": "code",
   "execution_count": 13,
   "id": "d2277c5d",
   "metadata": {},
   "outputs": [
    {
     "name": "stdout",
     "output_type": "stream",
     "text": [
      "Enter the No of Students: 2\n",
      "Enter Student 1 Name: Hassan\n",
      "Enter Student 2 Name: Raza\n",
      "Enter the No of Subjects: 2\n",
      "Enter the Subject 1 Name: Physics\n",
      "Enter Hassan's Physics Marks: 50\n",
      "Enter Raza's Physics Marks: 85\n",
      "Enter the Subject 2 Name: Math\n",
      "Enter Hassan's Math Marks: 35\n",
      "Enter Raza's Math Marks: 95\n",
      "\n",
      "----Hassan Average Grade: 42.50----\n",
      "\n",
      "----Raza Average Grade: 90.00----\n",
      "\n",
      "Overall Average Grade: 66.25\n"
     ]
    }
   ],
   "source": [
    "name_of_students = []\n",
    "name_of_subjects = []\n",
    "student_grades = {}\n",
    "\n",
    "no_of_students = int(input(\"Enter the No of Students: \"))\n",
    "for std_name in range(1, no_of_students + 1):\n",
    "    name = input(f\"Enter Student {std_name} Name: \")\n",
    "    name_of_students.append(name)\n",
    "    student_grades[name] = {}\n",
    "\n",
    "no_of_subjects = int(input(\"Enter the No of Subjects: \"))\n",
    "for subject in range(1, no_of_subjects + 1):\n",
    "    subject_name = input(f\"Enter the Subject {subject} Name: \")\n",
    "    name_of_subjects.append(subject_name)\n",
    "\n",
    "    for student in name_of_students:\n",
    "        mark = int(input(f\"Enter {student}'s {subject_name} Marks: \"))\n",
    "        student_grades[student][subject_name] = mark\n",
    "\n",
    "# Calculate average grades for each student\n",
    "for student in name_of_students:\n",
    "    total_marks = sum(student_grades[student].values())\n",
    "    average_grade = total_marks / no_of_subjects\n",
    "    print(f\"\\n----{student} Average Grade: {average_grade:.2f}----\")\n",
    "\n",
    "# Calculate overall average grade\n",
    "all_marks = [mark for grades in student_grades.values() for mark in grades.values()]\n",
    "overall_average_grade = sum(all_marks) / len(all_marks)\n",
    "print(f\"\\nOverall Average Grade: {overall_average_grade:.2f}\")\n"
   ]
  },
  {
   "cell_type": "code",
   "execution_count": 3,
   "id": "cf8e740a",
   "metadata": {},
   "outputs": [
    {
     "name": "stdout",
     "output_type": "stream",
     "text": [
      "Enter the Number of Students: 5\n",
      "Enter the Number of Subjects: 2\n",
      "Enter Subject 1 Name: Physics\n",
      "Enter Subject 2 Name: Math\n",
      "------------------------------\n",
      "Enter Student 1 Name: Hassan\n",
      "----- Hassan Marks -----\n",
      "Enter Physics Marks: 98\n",
      "Enter Math Marks: 95\n",
      "-----------------------------\n",
      "Enter Student 2 Name: Waqar\n",
      "----- Waqar Marks -----\n",
      "Enter Physics Marks: 86\n",
      "Enter Math Marks: 95\n",
      "-----------------------------\n",
      "Enter Student 3 Name: Ali\n",
      "----- Ali Marks -----\n",
      "Enter Physics Marks: 25\n",
      "Enter Math Marks: 84\n",
      "-----------------------------\n",
      "Enter Student 4 Name: Hussain\n",
      "----- Hussain Marks -----\n",
      "Enter Physics Marks: 84\n",
      "Enter Math Marks: 68\n",
      "-----------------------------\n",
      "Enter Student 5 Name: Haider\n",
      "----- Haider Marks -----\n",
      "Enter Physics Marks: 84\n",
      "Enter Math Marks: 25\n",
      "-----------------------------\n",
      "{'Hassan': {'Physics': 98.0, 'Math': 95.0}, 'Waqar': {'Physics': 86.0, 'Math': 95.0}, 'Ali': {'Physics': 25.0, 'Math': 84.0}, 'Hussain': {'Physics': 84.0, 'Math': 68.0}, 'Haider': {'Physics': 84.0, 'Math': 25.0}}\n"
     ]
    }
   ],
   "source": [
    "students_marks = {}\n",
    "subjects = []\n",
    "num_of_students = int(input(\"Enter the Number of Students: \"))\n",
    "num_of_subjects = int(input(\"Enter the Number of Subjects: \"))\n",
    "for sub in range(1, num_of_subjects+1):\n",
    "    subjects.append(input(f\"Enter Subject {sub} Name: \"))\n",
    "print(\"------------------------------\")\n",
    "for num in range(1, num_of_students+1):\n",
    "    name = input(f\"Enter Student {num} Name: \")\n",
    "    print(f\"----- {name} Marks -----\")\n",
    "    subjects_marks = {}\n",
    "    for subject in subjects:\n",
    "        marks = float(input(f\"Enter {subject} Marks: \"))\n",
    "        subjects_marks[subject] = marks\n",
    "    print(\"-----------------------------\")\n",
    "    students_marks[name] = subjects_marks\n",
    "print(students_marks)"
   ]
  },
  {
   "cell_type": "code",
   "execution_count": 14,
   "id": "ca4c1576",
   "metadata": {},
   "outputs": [
    {
     "name": "stdout",
     "output_type": "stream",
     "text": [
      "Hassan's Obtain Marks is 193.0\n",
      "Percentage = 96.5% \n",
      "------------------------------\n",
      "Waqar's Obtain Marks is 181.0\n",
      "Percentage = 90.5% \n",
      "------------------------------\n",
      "Ali's Obtain Marks is 109.0\n",
      "Percentage = 54.5% \n",
      "------------------------------\n",
      "Hussain's Obtain Marks is 152.0\n",
      "Percentage = 76.0% \n",
      "------------------------------\n",
      "Haider's Obtain Marks is 109.0\n",
      "Percentage = 54.5% \n",
      "------------------------------\n"
     ]
    }
   ],
   "source": [
    "# Calculate percentage for each student\n",
    "all_percentage=0\n",
    "for student, subject in students_marks.items():\n",
    "    total_marks = sum(subject.values())\n",
    "    print(f\"{student}'s Obtain Marks is {total_marks}\")\n",
    "    percentage = round((total_marks/(num_of_subjects * 100)) * 100, 2)\n",
    "    print(f\"Percentage = {percentage}% \")\n",
    "    print(\"------------------------------\")\n",
    "    all_percentage += percentage"
   ]
  },
  {
   "cell_type": "code",
   "execution_count": 12,
   "id": "2eddf732",
   "metadata": {},
   "outputs": [
    {
     "name": "stdout",
     "output_type": "stream",
     "text": [
      "\n",
      "Overall Class Average : 74.4 %\n"
     ]
    }
   ],
   "source": [
    "# Calculate overall class average\n",
    "overall_class_average = all_percentage / len(students_marks)\n",
    "print(f\"\\nOverall Class Average : {overall_class_average} %\")"
   ]
  },
  {
   "cell_type": "code",
   "execution_count": null,
   "id": "2132f83d",
   "metadata": {},
   "outputs": [],
   "source": []
  }
 ],
 "metadata": {
  "kernelspec": {
   "display_name": "Python 3 (ipykernel)",
   "language": "python",
   "name": "python3"
  },
  "language_info": {
   "codemirror_mode": {
    "name": "ipython",
    "version": 3
   },
   "file_extension": ".py",
   "mimetype": "text/x-python",
   "name": "python",
   "nbconvert_exporter": "python",
   "pygments_lexer": "ipython3",
   "version": "3.11.5"
  }
 },
 "nbformat": 4,
 "nbformat_minor": 5
}
