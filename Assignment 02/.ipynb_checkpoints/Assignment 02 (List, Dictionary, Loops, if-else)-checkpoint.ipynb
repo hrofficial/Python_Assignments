{
 "cells": [
  {
   "cell_type": "markdown",
   "id": "429a0b1d",
   "metadata": {},
   "source": [
    "##### Scenario 1: Grocery Shopping List\n",
    "Create a program to manage grocery shopping list. Users should be able to add item, remove items, and display the current list."
   ]
  },
  {
   "cell_type": "code",
   "execution_count": 1,
   "id": "73c28037",
   "metadata": {},
   "outputs": [
    {
     "name": "stdout",
     "output_type": "stream",
     "text": [
      "Choice any Options\n",
      "_____________________________\n",
      "Enter 'B' to buy \n",
      "Enter 'S' to Stop \n",
      "Enter 'R' to remove item \n",
      "Enter 'L' to view the list: B\n",
      "Enter item to add: egg\n",
      "Press 'Enter' to add more item \n",
      "'R' to Return Main Menu : \n",
      "Enter item to add: Milk\n",
      "Press 'Enter' to add more item \n",
      "'R' to Return Main Menu : \n",
      "Enter item to add: Meat\n",
      "Press 'Enter' to add more item \n",
      "'R' to Return Main Menu : R\n",
      "Enter 'B' to buy \n",
      "Enter 'S' to Stop \n",
      "Enter 'R' to remove item \n",
      "Enter 'L' to view the list: L\n",
      "----Shopping List----\n",
      "egg\n",
      "Milk\n",
      "Meat\n",
      "Enter 'B' to buy \n",
      "Enter 'S' to Stop \n",
      "Enter 'R' to remove item \n",
      "Enter 'L' to view the list: \n",
      "Enter 'B' to buy \n",
      "Enter 'S' to Stop \n",
      "Enter 'R' to remove item \n",
      "Enter 'L' to view the list: \n"
     ]
    }
   ],
   "source": [
    "print(\"Choice any Options\")\n",
    "print(\"_____________________________\")\n",
    "#create a empty list\n",
    "shopping_list = []\n",
    "for i in range(1,5):\n",
    "    choice = input(\"Enter 'B' to buy \\nEnter 'S' to Stop \\nEnter 'R' to remove item \\nEnter 'L' to view the list: \")\n",
    "    if choice == \"B\":\n",
    "        for x in range(1,5):\n",
    "             #take input from users and store into the list\n",
    "            shopping_list.append(input(\"Enter item to add: \"))\n",
    "            choice = input(\"Press 'Enter' to add more item \\n'R' to Return Main Menu : \")\n",
    "            if choice == \"R\":\n",
    "                break\n",
    "    elif choice == \"L\":\n",
    "        print(\"----Shopping List----\",)\n",
    "        for i in shopping_list:\n",
    "            print(i)\n",
    "    elif choice == \"S\":\n",
    "        print(\"----Shopping List----\",)\n",
    "        for i in shopping_list:\n",
    "            print(i)\n",
    "            break\n"
   ]
  },
  {
   "cell_type": "code",
   "execution_count": 2,
   "id": "dc5a794f",
   "metadata": {},
   "outputs": [
    {
     "data": {
      "text/plain": [
       "['egg', 'Milk', 'Meat']"
      ]
     },
     "execution_count": 2,
     "metadata": {},
     "output_type": "execute_result"
    }
   ],
   "source": [
    "shopping_list"
   ]
  },
  {
   "cell_type": "code",
   "execution_count": 6,
   "id": "aedfc761",
   "metadata": {},
   "outputs": [
    {
     "ename": "NameError",
     "evalue": "name 'count' is not defined",
     "output_type": "error",
     "traceback": [
      "\u001b[1;31m---------------------------------------------------------------------------\u001b[0m",
      "\u001b[1;31mNameError\u001b[0m                                 Traceback (most recent call last)",
      "Cell \u001b[1;32mIn[6], line 1\u001b[0m\n\u001b[1;32m----> 1\u001b[0m count(shopping_list)\n",
      "\u001b[1;31mNameError\u001b[0m: name 'count' is not defined"
     ]
    }
   ],
   "source": [
    "count(shopping_list)"
   ]
  },
  {
   "cell_type": "code",
   "execution_count": 18,
   "id": "e19ee116",
   "metadata": {},
   "outputs": [
    {
     "name": "stdout",
     "output_type": "stream",
     "text": [
      "----Shopping List----\n"
     ]
    }
   ],
   "source": [
    "print(\"----Shopping List----\",)\n",
    "for i in shopping_list:     \n",
    "    for x in range(1, (shopping_list.count(1))):\n",
    "        print(i,x)"
   ]
  },
  {
   "cell_type": "code",
   "execution_count": null,
   "id": "abe2bb91",
   "metadata": {},
   "outputs": [],
   "source": [
    "    elif choice == \"S\":\n",
    "        print(\"Your Shopping List\")\n",
    "        print(\"----------------------\\n\",shopping_list)\n",
    "        break"
   ]
  },
  {
   "cell_type": "code",
   "execution_count": null,
   "id": "f666921d",
   "metadata": {},
   "outputs": [],
   "source": []
  },
  {
   "cell_type": "code",
   "execution_count": null,
   "id": "bf1a9524",
   "metadata": {},
   "outputs": [],
   "source": []
  }
 ],
 "metadata": {
  "kernelspec": {
   "display_name": "Python 3 (ipykernel)",
   "language": "python",
   "name": "python3"
  },
  "language_info": {
   "codemirror_mode": {
    "name": "ipython",
    "version": 3
   },
   "file_extension": ".py",
   "mimetype": "text/x-python",
   "name": "python",
   "nbconvert_exporter": "python",
   "pygments_lexer": "ipython3",
   "version": "3.11.5"
  }
 },
 "nbformat": 4,
 "nbformat_minor": 5
}
