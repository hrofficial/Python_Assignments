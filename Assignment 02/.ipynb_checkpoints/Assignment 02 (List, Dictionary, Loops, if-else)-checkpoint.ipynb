{
 "cells": [
  {
   "cell_type": "markdown",
   "id": "429a0b1d",
   "metadata": {},
   "source": [
    "##### Scenario 1: Grocery Shopping List\n",
    "Create a program to manage grocery shopping list. Users should be able to add item, remove items, and display the current list."
   ]
  },
  {
   "cell_type": "code",
   "execution_count": 1,
   "id": "44454fa1",
   "metadata": {},
   "outputs": [
    {
     "name": "stdout",
     "output_type": "stream",
     "text": [
      "\n",
      "Enter 'A' to Add item in list\n",
      "Enter 'R' to Remove item from list\n",
      "Enter 'V' to View item list\n",
      "Choose any one option: A\n",
      "How many item want to add: 5\n",
      "Item to Add: Egg\n",
      "Item to Add: Milk\n",
      "Item to Add: Flour\n",
      "Item to Add: Rice\n",
      "Item to Add: Sugar\n",
      "\n",
      "Enter 'A' to Add item in list\n",
      "Enter 'R' to Remove item from list\n",
      "Enter 'V' to View item list\n",
      "Choose any one option: R\n",
      "Item to Remove: Rice\n",
      "\n",
      "Enter 'A' to Add item in list\n",
      "Enter 'R' to Remove item from list\n",
      "Enter 'V' to View item list\n",
      "Choose any one option: V\n",
      "\n",
      "----------Your Final Grocery Shopping List----------\n",
      "\n",
      "- Egg\n",
      "- Milk\n",
      "- Flour\n",
      "- Sugar\n"
     ]
    }
   ],
   "source": [
    "item_list = []\n",
    "for i in range(1,101):\n",
    "    print(\"\\nEnter 'A' to Add item in list\")\n",
    "    print(\"Enter 'R' to Remove item from list\")\n",
    "    print(\"Enter 'V' to View item list\")\n",
    "    choice = input(\"Choose any one option: \")\n",
    "    if choice == \"A\":\n",
    "        item_no = int(input(\"How many item want to add: \"))\n",
    "        for i in range(1,item_no+1):\n",
    "            item_list.append(input(\"Item to Add: \"))\n",
    "    elif choice == \"R\":\n",
    "        item_no = int(input(\"How many item want to Remove: \"))\n",
    "        for i in range(1,item_no+1):\n",
    "            item_list.remove(input(\"Item to Remove: \"))\n",
    "    elif choice == \"V\":\n",
    "        print(\"\\n-----Your Final Grocery Shopping List-----\")\n",
    "        for item in item_list:\n",
    "            print(\"-\",item)\n",
    "        break"
   ]
  },
  {
   "cell_type": "code",
   "execution_count": 1,
   "id": "73c28037",
   "metadata": {},
   "outputs": [
    {
     "name": "stdout",
     "output_type": "stream",
     "text": [
      "Choice any Options\n",
      "_____________________________\n",
      "Enter 'B' to buy \n",
      "Enter 'S' to Stop \n",
      "Enter 'R' to remove item \n",
      "Enter 'L' to view the list: B\n",
      "Enter item to add: egg\n",
      "Press 'Enter' to add more item \n",
      "'R' to Return Main Menu : \n",
      "Enter item to add: Milk\n",
      "Press 'Enter' to add more item \n",
      "'R' to Return Main Menu : \n",
      "Enter item to add: Meat\n",
      "Press 'Enter' to add more item \n",
      "'R' to Return Main Menu : R\n",
      "Enter 'B' to buy \n",
      "Enter 'S' to Stop \n",
      "Enter 'R' to remove item \n",
      "Enter 'L' to view the list: L\n",
      "----Shopping List----\n",
      "egg\n",
      "Milk\n",
      "Meat\n",
      "Enter 'B' to buy \n",
      "Enter 'S' to Stop \n",
      "Enter 'R' to remove item \n",
      "Enter 'L' to view the list: \n",
      "Enter 'B' to buy \n",
      "Enter 'S' to Stop \n",
      "Enter 'R' to remove item \n",
      "Enter 'L' to view the list: \n"
     ]
    }
   ],
   "source": [
    "print(\"Choice any Options\")\n",
    "print(\"_____________________________\")\n",
    "#create a empty list\n",
    "shopping_list = []\n",
    "for i in range(1,5):\n",
    "    choice = input(\"Enter 'B' to buy \\nEnter 'S' to Stop \\nEnter 'R' to remove item \\nEnter 'L' to view the list: \")\n",
    "    if choice == \"B\":\n",
    "        for x in range(1,5):\n",
    "             #take input from users and store into the list\n",
    "            shopping_list.append(input(\"Enter item to add: \"))\n",
    "            choice = input(\"Press 'Enter' to add more item \\n'R' to Return Main Menu : \")\n",
    "            if choice == \"R\":\n",
    "                break\n",
    "    elif choice == \"L\":\n",
    "        print(\"----Shopping List----\",)\n",
    "        for i in shopping_list:\n",
    "            print(i)\n",
    "    elif choice == \"S\":\n",
    "        print(\"----Shopping List----\",)\n",
    "        for i in shopping_list:\n",
    "            print(i)\n",
    "            break\n"
   ]
  },
  {
   "cell_type": "code",
   "execution_count": null,
   "id": "e649c31b",
   "metadata": {},
   "outputs": [],
   "source": []
  },
  {
   "cell_type": "code",
   "execution_count": null,
   "id": "bf1a9524",
   "metadata": {},
   "outputs": [],
   "source": []
  },
  {
   "cell_type": "markdown",
   "id": "b163e0f1",
   "metadata": {},
   "source": [
    "##### Scenario 3: Word Frequency Counter\n",
    "You are given a list of words, you need to count the frequency of each word."
   ]
  },
  {
   "cell_type": "code",
   "execution_count": 3,
   "id": "a5f22f9a",
   "metadata": {},
   "outputs": [],
   "source": [
    "word_list =[\"apple\", \"banana\", \"apple\", \"orange\", \"banana\", \"grape\", \"apple\"]"
   ]
  },
  {
   "cell_type": "code",
   "execution_count": 53,
   "id": "cb4a77a7",
   "metadata": {},
   "outputs": [
    {
     "ename": "NameError",
     "evalue": "name 'orange' is not defined",
     "output_type": "error",
     "traceback": [
      "\u001b[1;31m---------------------------------------------------------------------------\u001b[0m",
      "\u001b[1;31mNameError\u001b[0m                                 Traceback (most recent call last)",
      "Cell \u001b[1;32mIn[53], line 7\u001b[0m\n\u001b[0;32m      5\u001b[0m \u001b[38;5;28;01mfor\u001b[39;00m i \u001b[38;5;129;01min\u001b[39;00m word_list:\n\u001b[0;32m      6\u001b[0m     apple_count \u001b[38;5;241m=\u001b[39m word_list\u001b[38;5;241m.\u001b[39mcount(apple)\n\u001b[1;32m----> 7\u001b[0m     orange_count \u001b[38;5;241m=\u001b[39m word_list\u001b[38;5;241m.\u001b[39mcount(orange)\n\u001b[0;32m      8\u001b[0m     banana_count \u001b[38;5;241m=\u001b[39m word_list\u001b[38;5;241m.\u001b[39mcount(banana)\n\u001b[0;32m      9\u001b[0m     grape_count \u001b[38;5;241m=\u001b[39m word_list\u001b[38;5;241m.\u001b[39mcount(grape)\n",
      "\u001b[1;31mNameError\u001b[0m: name 'orange' is not defined"
     ]
    }
   ],
   "source": [
    "apple_count = 0\n",
    "orange_count = 0\n",
    "banana_count = 0\n",
    "grape_count = 0\n",
    "for i in word_list:\n",
    "    apple_count = word_list.count(apple)\n",
    "    orange_count = word_list.count(orange)\n",
    "    banana_count = word_list.count(banana)\n",
    "    grape_count = word_list.count(grape)\n",
    "    \n",
    "print(f\"Apple is {apple_count} time in this list\")\n",
    "print(f\"Orange is {orange_count} time in this list\")\n",
    "print(f\"Banana is {banana_count} time in this list\")\n",
    "print(f\"Grape is {grape_count} time in this list\")\n",
    "\n",
    "#word_list.count(banana)\n",
    "#word_list.count(orange)\n",
    "#word_list.count(grape)"
   ]
  },
  {
   "cell_type": "code",
   "execution_count": 4,
   "id": "04e5206d",
   "metadata": {},
   "outputs": [
    {
     "ename": "NameError",
     "evalue": "name 'apple' is not defined",
     "output_type": "error",
     "traceback": [
      "\u001b[1;31m---------------------------------------------------------------------------\u001b[0m",
      "\u001b[1;31mNameError\u001b[0m                                 Traceback (most recent call last)",
      "Cell \u001b[1;32mIn[4], line 7\u001b[0m\n\u001b[0;32m      5\u001b[0m \u001b[38;5;28;01mfor\u001b[39;00m i \u001b[38;5;129;01min\u001b[39;00m word_list:\n\u001b[0;32m      6\u001b[0m     \u001b[38;5;28;01mif\u001b[39;00m i \u001b[38;5;241m==\u001b[39m \u001b[38;5;124m\"\u001b[39m\u001b[38;5;124mapple\u001b[39m\u001b[38;5;124m\"\u001b[39m:\n\u001b[1;32m----> 7\u001b[0m         apple_count \u001b[38;5;241m=\u001b[39m word_list\u001b[38;5;241m.\u001b[39mcount(apple)\n\u001b[0;32m      8\u001b[0m     \u001b[38;5;28;01mif\u001b[39;00m i \u001b[38;5;241m==\u001b[39m \u001b[38;5;124m\"\u001b[39m\u001b[38;5;124morange\u001b[39m\u001b[38;5;124m\"\u001b[39m:\n\u001b[0;32m      9\u001b[0m         orange_count \u001b[38;5;241m=\u001b[39m word_list\u001b[38;5;241m.\u001b[39mcount(orange)\n",
      "\u001b[1;31mNameError\u001b[0m: name 'apple' is not defined"
     ]
    }
   ],
   "source": [
    "apple_count = 0\n",
    "orange_count = 0\n",
    "banana_count = 0\n",
    "grape_count = 0\n",
    "for i in word_list:\n",
    "    if i == \"apple\":\n",
    "        apple_count = word_list.count(apple)\n",
    "    if i == \"orange\":\n",
    "        orange_count = word_list.count(orange)"
   ]
  },
  {
   "cell_type": "code",
   "execution_count": 2,
   "id": "d1a1379f",
   "metadata": {},
   "outputs": [
    {
     "ename": "NameError",
     "evalue": "name 'word_list' is not defined",
     "output_type": "error",
     "traceback": [
      "\u001b[1;31m---------------------------------------------------------------------------\u001b[0m",
      "\u001b[1;31mNameError\u001b[0m                                 Traceback (most recent call last)",
      "Cell \u001b[1;32mIn[2], line 1\u001b[0m\n\u001b[1;32m----> 1\u001b[0m word_list\n",
      "\u001b[1;31mNameError\u001b[0m: name 'word_list' is not defined"
     ]
    }
   ],
   "source": [
    "word_list"
   ]
  },
  {
   "cell_type": "code",
   "execution_count": null,
   "id": "43747926",
   "metadata": {},
   "outputs": [],
   "source": []
  }
 ],
 "metadata": {
  "kernelspec": {
   "display_name": "Python 3 (ipykernel)",
   "language": "python",
   "name": "python3"
  },
  "language_info": {
   "codemirror_mode": {
    "name": "ipython",
    "version": 3
   },
   "file_extension": ".py",
   "mimetype": "text/x-python",
   "name": "python",
   "nbconvert_exporter": "python",
   "pygments_lexer": "ipython3",
   "version": "3.11.5"
  }
 },
 "nbformat": 4,
 "nbformat_minor": 5
}
