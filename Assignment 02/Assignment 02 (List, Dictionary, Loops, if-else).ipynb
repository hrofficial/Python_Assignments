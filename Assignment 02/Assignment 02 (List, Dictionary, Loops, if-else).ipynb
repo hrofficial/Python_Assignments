{
 "cells": [
  {
   "cell_type": "markdown",
   "id": "429a0b1d",
   "metadata": {},
   "source": [
    "##### Scenario 1: Grocery Shopping List\n",
    "Create a program to manage grocery shopping list. Users should be able to add item, remove items, and display the current list."
   ]
  },
  {
   "cell_type": "code",
   "execution_count": 7,
   "id": "44454fa1",
   "metadata": {},
   "outputs": [
    {
     "name": "stdout",
     "output_type": "stream",
     "text": [
      "\n",
      "--------------------------------\n",
      "Enter 'A' to Add item in list\n",
      "Enter 'R' to Remove item from list\n",
      "Enter 'V' to View current list\n",
      "Enter 'S' to Stop and View final list\n",
      "--------------------------------\n",
      "Choose an option (A/R/V/S): A\n",
      "How many item do you want to add: 2\n",
      "\n",
      "Enter the Item to Add: egg\n",
      "\n",
      "Enter the Item to Add: fries\n",
      "\n",
      "--Items successfully added to list--\n",
      "\n",
      "--------------------------------\n",
      "Enter 'A' to Add item in list\n",
      "Enter 'R' to Remove item from list\n",
      "Enter 'V' to View current list\n",
      "Enter 'S' to Stop and View final list\n",
      "--------------------------------\n",
      "Choose an option (A/R/V/S): v\n",
      "\n",
      "-----Your Current Grocery Shopping List-----\n",
      "- egg\n",
      "- fries\n",
      "\n",
      "--------------------------------\n",
      "Enter 'A' to Add item in list\n",
      "Enter 'R' to Remove item from list\n",
      "Enter 'V' to View current list\n",
      "Enter 'S' to Stop and View final list\n",
      "--------------------------------\n",
      "Choose an option (A/R/V/S): s\n",
      "\n",
      "-----Your Final Grocery Shopping List-----\n",
      "• egg\n",
      "• fries\n"
     ]
    }
   ],
   "source": [
    "item_list = []\n",
    "for i in range(1,101):\n",
    "    print(\"\\n--------------------------------\")\n",
    "    print(\"Enter 'A' to Add item in list\")\n",
    "    print(\"Enter 'R' to Remove item from list\")\n",
    "    print(\"Enter 'V' to View current list\")\n",
    "    print(\"Enter 'S' to Stop and View final list\")\n",
    "    print(\"--------------------------------\")\n",
    "    choice = input(\"Choose an option (A/R/V/S): \")\n",
    "    if choice.upper() == \"A\":\n",
    "        item_no = int(input(\"How many item do you want to add: \"))\n",
    "        for x in range(1,item_no+1):\n",
    "            item_list.append(input(\"\\nEnter the Item to Add: \"))\n",
    "        print(\"\\n--Items successfully added to list--\")\n",
    "    elif choice.upper() == \"R\":\n",
    "        if len(item_list) > 1:\n",
    "            remove = input(\"Enter the Item to Remove: \")\n",
    "            if remove in item_list:\n",
    "                item_list.remove(remove)\n",
    "                print(\"\\n--Items successfully removed from list--\")\n",
    "            else:\n",
    "                print(\"\\nItem not found in the list. Please check and try again.\")\n",
    "        else:\n",
    "            print(\"\\nThe list is currently empty.\")\n",
    "    elif choice.upper() == \"V\":\n",
    "        if len(item_list) > 1:\n",
    "            print(\"\\n-----Your Current Grocery Shopping List-----\")\n",
    "            for item in item_list:\n",
    "                print(\"•\",item)\n",
    "        else:\n",
    "            print(\"\\nThe list is currently empty.\")\n",
    "    elif choice.upper() == \"S\":\n",
    "        print(\"\\n-----Your Final Grocery Shopping List-----\")\n",
    "        for item in item_list:\n",
    "            print(\"•\",item)\n",
    "        break\n",
    "    else:\n",
    "        print(\"\\nInvalid choice. Please choose a valid option (A/R/V/S).\")"
   ]
  },
  {
   "cell_type": "code",
   "execution_count": 3,
   "id": "88a0264c",
   "metadata": {},
   "outputs": [
    {
     "data": {
      "text/plain": [
       "['Egg', 'Milk', 'Flour', 'Sugar']"
      ]
     },
     "execution_count": 3,
     "metadata": {},
     "output_type": "execute_result"
    }
   ],
   "source": []
  },
  {
   "cell_type": "code",
   "execution_count": 8,
   "id": "ff7fa03d",
   "metadata": {},
   "outputs": [
    {
     "data": {
      "text/plain": [
       "False"
      ]
     },
     "execution_count": 8,
     "metadata": {},
     "output_type": "execute_result"
    }
   ],
   "source": [
    "\"A\" == \"a\""
   ]
  },
  {
   "cell_type": "code",
   "execution_count": 12,
   "id": "fb8f0d45",
   "metadata": {},
   "outputs": [
    {
     "data": {
      "text/plain": [
       "True"
      ]
     },
     "execution_count": 12,
     "metadata": {},
     "output_type": "execute_result"
    }
   ],
   "source": [
    "\"a\".upper() == \"A\""
   ]
  },
  {
   "cell_type": "code",
   "execution_count": 1,
   "id": "73c28037",
   "metadata": {},
   "outputs": [
    {
     "name": "stdout",
     "output_type": "stream",
     "text": [
      "Choice any Options\n",
      "_____________________________\n",
      "Enter 'B' to buy \n",
      "Enter 'S' to Stop \n",
      "Enter 'R' to remove item \n",
      "Enter 'L' to view the list: B\n",
      "Enter item to add: egg\n",
      "Press 'Enter' to add more item \n",
      "'R' to Return Main Menu : \n",
      "Enter item to add: Milk\n",
      "Press 'Enter' to add more item \n",
      "'R' to Return Main Menu : \n",
      "Enter item to add: Meat\n",
      "Press 'Enter' to add more item \n",
      "'R' to Return Main Menu : R\n",
      "Enter 'B' to buy \n",
      "Enter 'S' to Stop \n",
      "Enter 'R' to remove item \n",
      "Enter 'L' to view the list: L\n",
      "----Shopping List----\n",
      "egg\n",
      "Milk\n",
      "Meat\n",
      "Enter 'B' to buy \n",
      "Enter 'S' to Stop \n",
      "Enter 'R' to remove item \n",
      "Enter 'L' to view the list: \n",
      "Enter 'B' to buy \n",
      "Enter 'S' to Stop \n",
      "Enter 'R' to remove item \n",
      "Enter 'L' to view the list: \n"
     ]
    }
   ],
   "source": [
    "print(\"Choice any Options\")\n",
    "print(\"_____________________________\")\n",
    "#create a empty list\n",
    "shopping_list = []\n",
    "for i in range(1,5):\n",
    "    choice = input(\"Enter 'B' to buy \\nEnter 'S' to Stop \\nEnter 'R' to remove item \\nEnter 'L' to view the list: \")\n",
    "    if choice == \"B\":\n",
    "        for x in range(1,5):\n",
    "             #take input from users and store into the list\n",
    "            shopping_list.append(input(\"Enter item to add: \"))\n",
    "            choice = input(\"Press 'Enter' to add more item \\n'R' to Return Main Menu : \")\n",
    "            if choice == \"R\":\n",
    "                break\n",
    "    elif choice == \"L\":\n",
    "        print(\"----Shopping List----\",)\n",
    "        for i in shopping_list:\n",
    "            print(i)\n",
    "    elif choice == \"S\":\n",
    "        print(\"----Shopping List----\",)\n",
    "        for i in shopping_list:\n",
    "            print(i)\n",
    "            break\n"
   ]
  },
  {
   "cell_type": "code",
   "execution_count": null,
   "id": "e649c31b",
   "metadata": {},
   "outputs": [],
   "source": []
  },
  {
   "cell_type": "code",
   "execution_count": null,
   "id": "bf1a9524",
   "metadata": {},
   "outputs": [],
   "source": []
  },
  {
   "cell_type": "markdown",
   "id": "b163e0f1",
   "metadata": {},
   "source": [
    "##### Scenario 3: Word Frequency Counter\n",
    "You are given a list of words, you need to count the frequency of each word."
   ]
  },
  {
   "cell_type": "code",
   "execution_count": 9,
   "id": "a5f22f9a",
   "metadata": {},
   "outputs": [],
   "source": [
    "word_list =[\"apple\", \"banana\", \"apple\", \"orange\", \"banana\", \"grape\", \"apple\"]"
   ]
  },
  {
   "cell_type": "code",
   "execution_count": 15,
   "id": "cb4a77a7",
   "metadata": {},
   "outputs": [
    {
     "name": "stdout",
     "output_type": "stream",
     "text": [
      "Apple is 3 time in this list\n",
      "Orange is 1 time in this list\n",
      "Banana is 2 time in this list\n",
      "Grape is 1 time in this list\n"
     ]
    }
   ],
   "source": [
    "apple_count = 0\n",
    "orange_count = 0\n",
    "banana_count = 0\n",
    "grape_count = 0\n",
    "for i in word_list:\n",
    "    apple_count = word_list.count(\"apple\")\n",
    "    orange_count = word_list.count(\"orange\")\n",
    "    banana_count = word_list.count(\"banana\")\n",
    "    grape_count = word_list.count(\"grape\")\n",
    "    \n",
    "print(f\"Apple is {apple_count} time in this list\")\n",
    "print(f\"Orange is {orange_count} time in this list\")\n",
    "print(f\"Banana is {banana_count} time in this list\")\n",
    "print(f\"Grape is {grape_count} time in this list\")\n",
    "\n",
    "#word_list.count(banana)\n",
    "#word_list.count(orange)\n",
    "#word_list.count(grape)"
   ]
  },
  {
   "cell_type": "code",
   "execution_count": 12,
   "id": "04e5206d",
   "metadata": {},
   "outputs": [
    {
     "data": {
      "text/plain": [
       "['apple', 'banana', 'apple', 'orange', 'banana', 'grape', 'apple']"
      ]
     },
     "execution_count": 12,
     "metadata": {},
     "output_type": "execute_result"
    }
   ],
   "source": [
    "word_list"
   ]
  },
  {
   "cell_type": "code",
   "execution_count": 21,
   "id": "d1a1379f",
   "metadata": {},
   "outputs": [
    {
     "name": "stdout",
     "output_type": "stream",
     "text": [
      "Apple is 1 time in this list\n"
     ]
    }
   ],
   "source": [
    "count = 0\n",
    "for word in word_list:\n",
    "    if word == \"apple\":\n",
    "        count = word_list.count(\"apple\")\n",
    "    elif word == \"orange\":\n",
    "        count = word_list.count(\"orange\")\n",
    "        print(f\"Apple is {count} time in this list\")"
   ]
  },
  {
   "cell_type": "code",
   "execution_count": 18,
   "id": "43747926",
   "metadata": {},
   "outputs": [
    {
     "name": "stdout",
     "output_type": "stream",
     "text": [
      "3\n"
     ]
    }
   ],
   "source": [
    "print(count)"
   ]
  },
  {
   "cell_type": "code",
   "execution_count": null,
   "id": "c1eada36",
   "metadata": {},
   "outputs": [],
   "source": []
  }
 ],
 "metadata": {
  "kernelspec": {
   "display_name": "Python 3 (ipykernel)",
   "language": "python",
   "name": "python3"
  },
  "language_info": {
   "codemirror_mode": {
    "name": "ipython",
    "version": 3
   },
   "file_extension": ".py",
   "mimetype": "text/x-python",
   "name": "python",
   "nbconvert_exporter": "python",
   "pygments_lexer": "ipython3",
   "version": "3.11.5"
  }
 },
 "nbformat": 4,
 "nbformat_minor": 5
}
