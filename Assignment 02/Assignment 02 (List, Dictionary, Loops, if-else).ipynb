{
 "cells": [
  {
   "cell_type": "markdown",
   "id": "429a0b1d",
   "metadata": {},
   "source": [
    "##### Scenario 1: Grocery Shopping List\n",
    "Create a program to manage grocery shopping list. Users should be able to add item, remove items, and display the current list."
   ]
  },
  {
   "cell_type": "code",
   "execution_count": 7,
   "id": "44454fa1",
   "metadata": {},
   "outputs": [
    {
     "name": "stdout",
     "output_type": "stream",
     "text": [
      "\n",
      "--------------------------------\n",
      "Enter 'A' to Add item in list\n",
      "Enter 'R' to Remove item from list\n",
      "Enter 'V' to View current list\n",
      "Enter 'S' to Stop and View final list\n",
      "--------------------------------\n",
      "Choose an option (A/R/V/S): A\n",
      "How many item do you want to add: 2\n",
      "\n",
      "Enter the Item to Add: egg\n",
      "\n",
      "Enter the Item to Add: fries\n",
      "\n",
      "--Items successfully added to list--\n",
      "\n",
      "--------------------------------\n",
      "Enter 'A' to Add item in list\n",
      "Enter 'R' to Remove item from list\n",
      "Enter 'V' to View current list\n",
      "Enter 'S' to Stop and View final list\n",
      "--------------------------------\n",
      "Choose an option (A/R/V/S): v\n",
      "\n",
      "-----Your Current Grocery Shopping List-----\n",
      "- egg\n",
      "- fries\n",
      "\n",
      "--------------------------------\n",
      "Enter 'A' to Add item in list\n",
      "Enter 'R' to Remove item from list\n",
      "Enter 'V' to View current list\n",
      "Enter 'S' to Stop and View final list\n",
      "--------------------------------\n",
      "Choose an option (A/R/V/S): s\n",
      "\n",
      "-----Your Final Grocery Shopping List-----\n",
      "• egg\n",
      "• fries\n"
     ]
    }
   ],
   "source": [
    "item_list = []\n",
    "for i in range(1,101):\n",
    "    print(\"\\n--------------------------------\")\n",
    "    print(\"Enter 'A' to Add item in list\")\n",
    "    print(\"Enter 'R' to Remove item from list\")\n",
    "    print(\"Enter 'V' to View current list\")\n",
    "    print(\"Enter 'S' to Stop and View final list\")\n",
    "    print(\"--------------------------------\")\n",
    "    choice = input(\"Choose an option (A/R/V/S): \")\n",
    "    if choice.upper() == \"A\":\n",
    "        item_no = int(input(\"How many item do you want to add: \"))\n",
    "        for x in range(1,item_no+1):\n",
    "            item_list.append(input(\"\\nEnter the Item to Add: \"))\n",
    "        print(\"\\n--Items successfully added to list--\")\n",
    "    elif choice.upper() == \"R\":\n",
    "        if len(item_list) > 1:\n",
    "            remove = input(\"Enter the Item to Remove: \")\n",
    "            if remove in item_list:\n",
    "                item_list.remove(remove)\n",
    "                print(\"\\n--Items successfully removed from list--\")\n",
    "            else:\n",
    "                print(\"\\nItem not found in the list. Please check and try again.\")\n",
    "        else:\n",
    "            print(\"\\nThe list is currently empty.\")\n",
    "    elif choice.upper() == \"V\":\n",
    "        if len(item_list) > 1:\n",
    "            print(\"\\n-----Your Current Grocery Shopping List-----\")\n",
    "            for item in item_list:\n",
    "                print(\"•\",item)\n",
    "        else:\n",
    "            print(\"\\nThe list is currently empty.\")\n",
    "    elif choice.upper() == \"S\":\n",
    "        print(\"\\n-----Your Final Grocery Shopping List-----\")\n",
    "        for item in item_list:\n",
    "            print(\"•\",item)\n",
    "        break\n",
    "    else:\n",
    "        print(\"\\nInvalid choice. Please choose a valid option (A/R/V/S).\")"
   ]
  },
  {
   "cell_type": "markdown",
   "id": "07875156",
   "metadata": {},
   "source": [
    "#### Scenario 2: Student Grades  \n",
    "You are managing student grades using a dictionary. You need to calculate the average grade.take atleast 5 Students grades & then calculate the average. "
   ]
  },
  {
   "cell_type": "code",
   "execution_count": 17,
   "id": "84e6930a",
   "metadata": {},
   "outputs": [],
   "source": [
    "students = {\n",
    "            \"student_name\": [\"Hassan\", \"Raza\", \"Ali\"],\n",
    "            \"obtain_marks\" :[ 235, 352, 421],\n",
    "            \"number\" : 190324\n",
    "            }"
   ]
  },
  {
   "cell_type": "code",
   "execution_count": 18,
   "id": "bff7c826",
   "metadata": {},
   "outputs": [
    {
     "ename": "NameError",
     "evalue": "name 'number' is not defined",
     "output_type": "error",
     "traceback": [
      "\u001b[1;31m---------------------------------------------------------------------------\u001b[0m",
      "\u001b[1;31mNameError\u001b[0m                                 Traceback (most recent call last)",
      "Cell \u001b[1;32mIn[18], line 1\u001b[0m\n\u001b[1;32m----> 1\u001b[0m students[number]\n",
      "\u001b[1;31mNameError\u001b[0m: name 'number' is not defined"
     ]
    }
   ],
   "source": [
    "students[number]"
   ]
  },
  {
   "cell_type": "code",
   "execution_count": 8,
   "id": "3800a1a8",
   "metadata": {},
   "outputs": [
    {
     "name": "stdout",
     "output_type": "stream",
     "text": [
      "Enter how many subject: 5\n",
      "Enter 1 Subject Marks: 15\n",
      "Enter 2 Subject Marks: 75\n",
      "Enter 3 Subject Marks: 35\n",
      "Enter 4 Subject Marks: 25\n",
      "Enter 5 Subject Marks: 85\n",
      "235\n"
     ]
    }
   ],
   "source": [
    "obtain_marks = 0\n",
    "no_of_sub = int(input(\"Enter how many subject: \"))\n",
    "for sub in range(1,no_of_sub+1):\n",
    "    num = int(input(f\"Enter {sub} Subject Marks: \"))\n",
    "    obtain_marks += num\n",
    "print(obtain_marks)\n",
    "    "
   ]
  },
  {
   "cell_type": "markdown",
   "id": "b163e0f1",
   "metadata": {},
   "source": [
    "##### Scenario 3: Word Frequency Counter\n",
    "You are given a list of words, you need to count the frequency of each word."
   ]
  },
  {
   "cell_type": "code",
   "execution_count": 9,
   "id": "a5f22f9a",
   "metadata": {},
   "outputs": [],
   "source": [
    "word_list =[\"apple\", \"banana\", \"apple\", \"orange\", \"banana\", \"grape\", \"apple\"]"
   ]
  },
  {
   "cell_type": "code",
   "execution_count": 15,
   "id": "cb4a77a7",
   "metadata": {},
   "outputs": [
    {
     "name": "stdout",
     "output_type": "stream",
     "text": [
      "Apple is 3 time in this list\n",
      "Orange is 1 time in this list\n",
      "Banana is 2 time in this list\n",
      "Grape is 1 time in this list\n"
     ]
    }
   ],
   "source": [
    "apple_count = 0\n",
    "orange_count = 0\n",
    "banana_count = 0\n",
    "grape_count = 0\n",
    "for i in word_list:\n",
    "    apple_count = word_list.count(\"apple\")\n",
    "    orange_count = word_list.count(\"orange\")\n",
    "    banana_count = word_list.count(\"banana\")\n",
    "    grape_count = word_list.count(\"grape\")\n",
    "    \n",
    "print(f\"Apple is {apple_count} time in this list\")\n",
    "print(f\"Orange is {orange_count} time in this list\")\n",
    "print(f\"Banana is {banana_count} time in this list\")\n",
    "print(f\"Grape is {grape_count} time in this list\")\n",
    "\n",
    "#word_list.count(banana)\n",
    "#word_list.count(orange)\n",
    "#word_list.count(grape)"
   ]
  },
  {
   "cell_type": "code",
   "execution_count": 12,
   "id": "04e5206d",
   "metadata": {},
   "outputs": [
    {
     "data": {
      "text/plain": [
       "['apple', 'banana', 'apple', 'orange', 'banana', 'grape', 'apple']"
      ]
     },
     "execution_count": 12,
     "metadata": {},
     "output_type": "execute_result"
    }
   ],
   "source": [
    "word_list"
   ]
  },
  {
   "cell_type": "code",
   "execution_count": 21,
   "id": "d1a1379f",
   "metadata": {},
   "outputs": [
    {
     "name": "stdout",
     "output_type": "stream",
     "text": [
      "Apple is 1 time in this list\n"
     ]
    }
   ],
   "source": [
    "count = 0\n",
    "for word in word_list:\n",
    "    if word == \"apple\":\n",
    "        count = word_list.count(\"apple\")\n",
    "    elif word == \"orange\":\n",
    "        count = word_list.count(\"orange\")\n",
    "        print(f\"Apple is {count} time in this list\")"
   ]
  },
  {
   "cell_type": "code",
   "execution_count": 18,
   "id": "43747926",
   "metadata": {},
   "outputs": [
    {
     "name": "stdout",
     "output_type": "stream",
     "text": [
      "3\n"
     ]
    }
   ],
   "source": [
    "print(count)"
   ]
  },
  {
   "cell_type": "code",
   "execution_count": null,
   "id": "c1eada36",
   "metadata": {},
   "outputs": [],
   "source": []
  }
 ],
 "metadata": {
  "kernelspec": {
   "display_name": "Python 3 (ipykernel)",
   "language": "python",
   "name": "python3"
  },
  "language_info": {
   "codemirror_mode": {
    "name": "ipython",
    "version": 3
   },
   "file_extension": ".py",
   "mimetype": "text/x-python",
   "name": "python",
   "nbconvert_exporter": "python",
   "pygments_lexer": "ipython3",
   "version": "3.11.5"
  }
 },
 "nbformat": 4,
 "nbformat_minor": 5
}
