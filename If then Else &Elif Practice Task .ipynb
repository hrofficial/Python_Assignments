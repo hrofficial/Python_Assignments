{
 "cells": [
  {
   "cell_type": "raw",
   "metadata": {},
   "source": [
    "1) A company decided to give bonus of 5% to employee if his/her year of service is more than 5 years.\n",
    "Ask user for their salary and year of service and print the net bonus amount."
   ]
  },
  {
   "cell_type": "code",
   "execution_count": 2,
   "metadata": {},
   "outputs": [
    {
     "name": "stdout",
     "output_type": "stream",
     "text": [
      "Enter your Salary: 15000\n",
      "Enter your year of Service: 5\n",
      "Sorry, Try next year\n"
     ]
    }
   ],
   "source": [
    "#Assign variables\n",
    "salary = int(input(\"Enter your Salary: \"))\n",
    "service = int(input(\"Enter your year of Service: \"))\n",
    "bonus = 0\n",
    "#apply conditions using if statements\n",
    "if service > 5: \n",
    "    bonus = (salary * 5)/100\n",
    "    print(\"Congrats! Your Bonus is = \", bonus)\n",
    "else:\n",
    "    print(\"Sorry, Try next year\")"
   ]
  },
  {
   "cell_type": "markdown",
   "metadata": {},
   "source": [
    "\n",
    "2) Write a program to check whether a person is eligible for voting or not. (accept age from user) if age is greater than 17 eligible otherwise not eligible"
   ]
  },
  {
   "cell_type": "code",
   "execution_count": 4,
   "metadata": {},
   "outputs": [
    {
     "name": "stdout",
     "output_type": "stream",
     "text": [
      "Enter your age: 20\n",
      "You are eligible for Voting\n"
     ]
    }
   ],
   "source": [
    "#Assign variable\n",
    "age = int(input(\"Enter your age: \"))\n",
    "if age > 17:\n",
    "    print(\"You are eligible for Voting\")\n",
    "else:\n",
    "    print(\"You are not eligible for Voting\")"
   ]
  },
  {
   "cell_type": "markdown",
   "metadata": {},
   "source": [
    "\n",
    "3) Write a program to check whether a number entered by user is even or odd."
   ]
  },
  {
   "cell_type": "code",
   "execution_count": 8,
   "metadata": {},
   "outputs": [],
   "source": [
    "print(\"Even or Odd Checker Program\")\n",
    "num = int(input(\"Enter a Number: \"))\n",
    "if num%2==0:\n",
    "    print(num,\" is Even Number\")\n",
    "else:\n",
    "    print(num,\" is Odd Number\")"
   ]
  },
  {
   "cell_type": "markdown",
   "metadata": {},
   "source": [
    "4) Write a program to check whether a number is divisible by 7 or not.\n",
    "Show Answer"
   ]
  },
  {
   "cell_type": "code",
   "execution_count": 9,
   "metadata": {},
   "outputs": [],
   "source": [
    "num = int(input(\"Enter a Number: \"))\n",
    "if num%7==0:\n",
    "    print(num,\" is Divisible by 7\")\n",
    "else:\n",
    "    print(num,\" is not Divisible by 7\")  "
   ]
  },
  {
   "cell_type": "raw",
   "metadata": {},
   "source": [
    "5) Write a program to display \n",
    "\"Hello\" if a number entered by user is a multiple of five , otherwise print \"Bye\"."
   ]
  },
  {
   "cell_type": "code",
   "execution_count": 15,
   "metadata": {},
   "outputs": [
    {
     "name": "stdout",
     "output_type": "stream",
     "text": [
      "Enter a Number: 25\n",
      "Hello\n"
     ]
    }
   ],
   "source": [
    "num = int(input(\"Enter a Number: \"))\n",
    "if num%5 == 0:\n",
    "    print(\"Hello\")\n",
    "else:\n",
    "    print(\"Bye\")"
   ]
  },
  {
   "cell_type": "raw",
   "metadata": {},
   "source": [
    "7) Write a program to display the last digit of a number.\n"
   ]
  },
  {
   "cell_type": "code",
   "execution_count": 20,
   "metadata": {},
   "outputs": [
    {
     "name": "stdout",
     "output_type": "stream",
     "text": [
      "Enter a Number: 8254\n",
      "The last digit of your number is : 4\n"
     ]
    }
   ],
   "source": [
    "num = int(input(\"Enter a Number: \"))\n",
    "last_digit = num%10\n",
    "print(\"The last digit of your number is :\", last_digit)"
   ]
  },
  {
   "cell_type": "raw",
   "metadata": {},
   "source": [
    "Q8. Write a program to check whether the last digit of a number( entered by user ) is \n",
    "divisible by 3 or not."
   ]
  },
  {
   "cell_type": "code",
   "execution_count": 21,
   "metadata": {},
   "outputs": [
    {
     "name": "stdout",
     "output_type": "stream",
     "text": [
      "4  is not divisible by 3\n"
     ]
    }
   ],
   "source": [
    "if last_digit % 3 == 0:\n",
    "    print(last_digit,\" is divisible by 3\")\n",
    "else:\n",
    "    print(last_digit,\" is not divisible by 3\")"
   ]
  },
  {
   "cell_type": "raw",
   "metadata": {},
   "source": [
    "9) Take values of length and breadth of a rectangle from user and print if it is square or rectangle."
   ]
  },
  {
   "cell_type": "code",
   "execution_count": 14,
   "metadata": {},
   "outputs": [],
   "source": [
    "#fist assign variables\n",
    "length = float(input(\"Enter the length: \"))\n",
    "breadth = float(input(\"Enter the breadth: \"))\n",
    "if length == breadth:\n",
    "    print(\"It is a Square\")\n",
    "else:\n",
    "    print(\"It is Rectangle\")"
   ]
  },
  {
   "cell_type": "raw",
   "metadata": {},
   "source": [
    "10) Take two int values from user and print greatest among them."
   ]
  },
  {
   "cell_type": "code",
   "execution_count": 15,
   "metadata": {},
   "outputs": [],
   "source": [
    "num1 = int(input(\"Enter First Number: \"))\n",
    "num2 = int(input(\"Enter Second Number: \"))\n",
    "if num1 > num2:\n",
    "    print(num1, \"is greater than \",num2)\n",
    "else:\n",
    "    print(num2, \"is greater than \",num1)"
   ]
  },
  {
   "cell_type": "raw",
   "metadata": {},
   "source": [
    "11) A shop will give discount of 10% if the cost of purchased quantity is more than 1000.\n",
    "Ask user for quantity\n",
    "Suppose, one unit will cost 100.\n",
    "Judge and print total cost for user."
   ]
  },
  {
   "cell_type": "code",
   "execution_count": 2,
   "metadata": {},
   "outputs": [
    {
     "name": "stdout",
     "output_type": "stream",
     "text": [
      "Enter the purchased quantity: 15\n",
      "Total Amount =  1500\n",
      "10% Discount = - 150.0\n",
      "Net Amount  =   1350.0\n"
     ]
    }
   ],
   "source": [
    "quantity = int(input(\"Enter the purchased quantity: \"))\n",
    "cost = 100\n",
    "total_cost = quantity * cost\n",
    "discount = (total_cost * 10)/100\n",
    "if total_cost > 1000:\n",
    "    print(\"Total Amount = \",total_cost)\n",
    "    print(\"10% Discount = -\",discount)\n",
    "    total_cost -=discount\n",
    "    print(\"Net Amount  =  \", total_cost)\n",
    "else:\n",
    "    print(\"Total Amount = \",total_cost)"
   ]
  },
  {
   "cell_type": "raw",
   "metadata": {},
   "source": [
    "12) A school has following rules for grading system:\n",
    "\n",
    "a. Below 25 - F\n",
    "\n",
    "b. 25 to 45 - E\n",
    "\n",
    "c. 45 to 50 - D\n",
    "\n",
    "d. 50 to 60 - C\n",
    "\n",
    "e. 60 to 80 - B\n",
    "\n",
    "f. Above 80 - A\n",
    "\n",
    "Ask user to enter marks and print the corresponding grade."
   ]
  },
  {
   "cell_type": "code",
   "execution_count": 7,
   "metadata": {},
   "outputs": [
    {
     "name": "stdout",
     "output_type": "stream",
     "text": [
      "Enter Obtained Marks: 125\n",
      "Enter the Total Marks: 525\n",
      "Your Grade is F\n"
     ]
    }
   ],
   "source": [
    "#assign variables\n",
    "obtain_marks = int(input(\"Enter Obtained Marks: \"))\n",
    "total_marks = int(input(\"Enter the Total Marks: \"))\n",
    "percentage = (obtain_marks / total_marks)*100\n",
    "if percentage > 80:\n",
    "    print(\"Your Grade is A\")\n",
    "elif percentage > 60:\n",
    "    print(\"Your Grade is B\")\n",
    "elif percentage > 50:\n",
    "    print(\"Your Grade is C\")\n",
    "elif percentage > 45:\n",
    "    print(\"Your Grade is D\")\n",
    "elif percentage > 25:\n",
    "    print(\"Your Grade is E\")\n",
    "elif percentage < 25:\n",
    "    print(\"Your Grade is F\")\n"
   ]
  },
  {
   "cell_type": "raw",
   "metadata": {},
   "source": [
    "14)A student will not be allowed to sit in exam if his/her attendence is less than 75%.\n",
    "\n",
    "Take following input from user\n",
    "\n",
    "Number of classes held\n",
    "\n",
    "Number of classes attended.\n",
    "\n",
    "And print\n",
    "\n",
    "percentage of class attended\n",
    "\n",
    "Is student is allowed to sit in exam or not.\n"
   ]
  },
  {
   "cell_type": "code",
   "execution_count": 1,
   "metadata": {},
   "outputs": [
    {
     "name": "stdout",
     "output_type": "stream",
     "text": [
      "Enter Number of Classes Held: 70\n",
      "Enter Number of Classes Attended: 45\n",
      "Class attended = % 64\n",
      "You are not allowed to sit in Exam\n"
     ]
    }
   ],
   "source": [
    "classes_held = int(input(\"Enter Number of Classes Held: \"))\n",
    "classes_attend = int(input(\"Enter Number of Classes Attended: \"))\n",
    "percentage = round((classes_attend/classes_held) *100)\n",
    "print(\"Class attended = %\",percentage)\n",
    "if percentage >= 75:\n",
    "    print(\"You are allowed to sit in Exam\")\n",
    "else:\n",
    "    print(\"You are not allowed to sit in Exam\")    "
   ]
  },
  {
   "cell_type": "raw",
   "metadata": {},
   "source": [
    "15) Modify the above question to allow student to sit if he/she has medical cause. Ask user if he/she has medical cause or not ( 'Y' or 'N' ) and print accordingly."
   ]
  },
  {
   "cell_type": "code",
   "execution_count": 4,
   "metadata": {},
   "outputs": [
    {
     "name": "stdout",
     "output_type": "stream",
     "text": [
      "Enter Number of Classes Held: 70\n",
      "Enter Number of Classes Attended: 43\n",
      "Class attended = % 61\n",
      "'Y' for Yes & 'N' for No\n",
      "Do you have Medical Cause? N\n",
      "You are not allowed to sit in Exam\n"
     ]
    }
   ],
   "source": [
    "classes_held = int(input(\"Enter Number of Classes Held: \"))\n",
    "classes_attend = int(input(\"Enter Number of Classes Attended: \"))\n",
    "percentage = round((classes_attend/classes_held) *100)\n",
    "print(\"Class attended = %\",percentage)\n",
    "if percentage >= 75:\n",
    "    print(\"You are allowed to sit in Exam\")\n",
    "elif percentage < 75:\n",
    "    print(\"'Y' for Yes & 'N' for No\") #to inform user how to answer\n",
    "    medical = input(\"Do you have Medical Cause? \")\n",
    "    if medical == \"Y\":\n",
    "        print(\"You are allowed to sit in Exam\")\n",
    "else:\n",
    "    print(\"You are not allowed to sit in Exam\")    "
   ]
  },
  {
   "cell_type": "raw",
   "metadata": {},
   "source": [
    "16) Write a program to check if a year is leap year or not.\n",
    "\n",
    "If a year is divisible by 4 then it is leap year but if the year is century year like 2000, 1900, 2100 then it must be divisible by 400."
   ]
  },
  {
   "cell_type": "code",
   "execution_count": 19,
   "metadata": {},
   "outputs": [
    {
     "name": "stdout",
     "output_type": "stream",
     "text": [
      "Enter the year: 2400\n",
      "2400  is Leap Year.\n"
     ]
    }
   ],
   "source": [
    "year = int(input(\"Enter the year: \"))\n",
    "if year<1000 and year%4 == 0:\n",
    "        print(year,\" is Leap Year.\")\n",
    "elif year >=1000 and year%400 == 0:\n",
    "        print(year,\" is Leap Year.\")\n",
    "else:\n",
    "    print(year,\" is not Leap Year.\")"
   ]
  },
  {
   "cell_type": "raw",
   "metadata": {},
   "source": [
    "17) Ask user to enter age, gender ( M or F ), marital status ( Y or N ) and then using following rules print their place of service.\n",
    "\n",
    "if employee is female, then she will work only in urban areas.\n",
    "\n",
    "if employee is a male and age is in between 20 to 40 then he may work in anywhere\n",
    "\n",
    "if employee is male and age is in between 40 t0 60 then he will work in urban areas only.\n",
    "\n",
    "And any other input of age should print \"ERROR\""
   ]
  },
  {
   "cell_type": "code",
   "execution_count": 5,
   "metadata": {},
   "outputs": [
    {
     "name": "stdout",
     "output_type": "stream",
     "text": [
      "Enter your Age: 25\n",
      "Male or Female (M or F): M\n",
      "Married or Unmarried (Y or N): N\n",
      "You may work in anywhere.\n"
     ]
    }
   ],
   "source": [
    "age = int(input(\"Enter your Age: \"))\n",
    "gender = input(\"Male or Female (M or F): \")\n",
    "marital_status = input(\"Married or Unmarried (Y or N): \")\n",
    "if gender == \"F\":\n",
    "    print(\"You will work only in urban areas.\")\n",
    "elif gender == \"M\" and (age >=20 and age <= 40):\n",
    "    print(\"You may work in anywhere.\")\n",
    "elif gender == \"M\" and (age >=40 and age <= 60):\n",
    "    print(\"You will work in urban areas only.\")\n",
    "else:\n",
    "    print(\"ERROR\")"
   ]
  },
  {
   "cell_type": "raw",
   "metadata": {},
   "source": [
    "6) Write a program to calculate the electricity bill (accept number of unit from user) according to the following criteria :\n",
    "     Unit                                                     Price  \n",
    "uptp 100 units                                             no charge\n",
    "Next 200 units                                              Rs 5 per unit\n",
    "After 200 units                                             Rs 10 per unit\n",
    "(For example if input unit is 350 than total bill amount is Rs.3500\n",
    "(For example if input unit is 97 than total bill amount is Rs.0\n",
    "(For example if input unit is 150 than total bill amount is Rs.750"
   ]
  },
  {
   "cell_type": "code",
   "execution_count": 10,
   "metadata": {},
   "outputs": [
    {
     "name": "stdout",
     "output_type": "stream",
     "text": [
      "Calculate Electricity Bill\n",
      "Enter the Electricity Unit: 175\n",
      "You Electricity Bill is =  875\n"
     ]
    }
   ],
   "source": [
    "print(\"Calculate Electricity Bill\")\n",
    "unit = int(input(\"Enter the Electricity Unit: \"))\n",
    "bill_amount = 0\n",
    "if unit < 100:\n",
    "    price_per_unit = 0\n",
    "    bill_amount = unit * price_per_unit\n",
    "    print(\"You Electricity Bill is = \", bill_amount)\n",
    "elif unit >= 100 and unit < 200:\n",
    "    price_per_unit = 5\n",
    "    bill_amount = unit * price_per_unit\n",
    "    print(\"You Electricity Bill is = \", bill_amount)\n",
    "else:\n",
    "    price_per_unit = 10\n",
    "    bill_amount = unit * price_per_unit\n",
    "    print(\"You Electricity Bill is = \", bill_amount)"
   ]
  },
  {
   "cell_type": "raw",
   "metadata": {},
   "source": [
    "13) Take input of age of 3 people by user and determine oldest and youngest among them."
   ]
  },
  {
   "cell_type": "code",
   "execution_count": 14,
   "metadata": {},
   "outputs": [
    {
     "name": "stdout",
     "output_type": "stream",
     "text": [
      "Enter first person age: 25\n",
      "Enter second person age: 26\n",
      "Enter third person age: 45\n",
      "25  is youngest person among them.\n",
      "45  is oldest person among them.\n"
     ]
    }
   ],
   "source": [
    "age1 = int(input(\"Enter first person age: \"))\n",
    "age2 = int(input(\"Enter second person age: \"))\n",
    "age3 = int(input(\"Enter third person age: \"))\n",
    "young = min(age1,age2, age3)\n",
    "print(young,\" is youngest person among them.\")\n",
    "old = max(age1,age2, age3)\n",
    "print(old,\" is oldest person among them.\")"
   ]
  },
  {
   "cell_type": "code",
   "execution_count": null,
   "metadata": {},
   "outputs": [],
   "source": []
  }
 ],
 "metadata": {
  "kernelspec": {
   "display_name": "Python 3 (ipykernel)",
   "language": "python",
   "name": "python3"
  },
  "language_info": {
   "codemirror_mode": {
    "name": "ipython",
    "version": 3
   },
   "file_extension": ".py",
   "mimetype": "text/x-python",
   "name": "python",
   "nbconvert_exporter": "python",
   "pygments_lexer": "ipython3",
   "version": "3.11.5"
  }
 },
 "nbformat": 4,
 "nbformat_minor": 2
}
